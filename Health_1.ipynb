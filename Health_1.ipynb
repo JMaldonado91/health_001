{
 "cells": [
  {
   "cell_type": "code",
   "execution_count": 2,
   "metadata": {},
   "outputs": [
    {
     "name": "stdout",
     "output_type": "stream",
     "text": [
      "1 Cleburne 16 25603 42.10\n",
      "2 Prentiss 16 1014 41.30\n",
      "3 Jasper 4 16529 40.80\n",
      "4 Holmes 4 18509 39.70\n",
      "5 Coal 1 5709 39.50\n",
      "6 Ashley 15 20958 39.20\n",
      "7 St Francis 10 239 38.90\n",
      "8 Lawrence 6 16970 38.80\n",
      "9 Lafayette 3 7163 38.80\n",
      "10 Mississippi 32 44232 38.80\n",
      "11 Haskell 4 1976 38.70\n",
      "12 Randolph 8 17561 38.60\n",
      "13 Poinsett 17 24144 38.50\n",
      "14 Lawrence 6 12601 38.40\n",
      "15 Sevier 97 94570 38.30\n",
      "16 Claiborne 5 9164 38.20\n",
      "17 Cocke 16 35201 38.10\n",
      "18 Bell 24 27841 38.00\n",
      "19 Yazoo 10 27811 38.00\n",
      "20 Quitman 4 2235 38.00\n"
     ]
    }
   ],
   "source": [
    "import mysql.connector\n",
    "import csv\n",
    "\n",
    "conn = mysql.connector.connect(\n",
    "         user='root',\n",
    "         password='1315',\n",
    "         host='127.0.0.1',\n",
    "         database='project_j')\n",
    "\n",
    "cur = conn.cursor()\n",
    "\n",
    "sql= \"\"\"DROP TABLE IF EXISTS `health_001`; CREATE TABLE `health_001` (\n",
    "  `id` int(11) NOT NULL AUTO_INCREMENT,\n",
    "  `county` varchar(25) NOT NULL,\n",
    "  `restaurants` decimal(10,0) NOT NULL,\n",
    "  `population` decimal(10,0) NOT NULL,\n",
    "  `percentage` decimal(19,2) NOT NULL,\n",
    "  PRIMARY KEY (`id`))\"\"\"\n",
    "\n",
    "with open('MySQL_Schema.csv') as csvfile:\n",
    "    reader = csv.DictReader(csvfile, delimiter = ',')\n",
    "    for row in reader:\n",
    "        print(row['id'], row['county'], row['restaurants'], row['population'], row['percentage'])\n",
    "conn = mysql.connector.connect(host=\"127.0.0.1\", user=\"root\", passwd=\"1315\", db=\"project_j\")\n",
    "sql_statement = \"INSERT INTO `health_001`(id,county,restaurants,population,percentage) VALUES (%s,%s,%s,%s,%s)\"\n",
    "    \n",
    "class Location:\n",
    "    def __init__(location, county, restaurants, population, percentage):\n",
    "        location1 = Location()\n",
    "        location1.county = \"\"\n",
    "        location1.restaurants = \"\"\n",
    "        location1.population = \"\"\n",
    "        location1.percentage = \"\"\n",
    "\n",
    "\n",
    "    def _description(self):\n",
    "        desc_str = \"In 2014 %s county had %s fast-food restaurants and physical inactivity percentage of %s with population of %s.\" % (location.county, location.restaurants, location.percentage, location.population)\n",
    "        return (desc_str)\n",
    "\n",
    "\n",
    "conn.close()"
   ]
  },
  {
   "cell_type": "code",
   "execution_count": null,
   "metadata": {},
   "outputs": [],
   "source": []
  }
 ],
 "metadata": {
  "kernelspec": {
   "display_name": "Python 3",
   "language": "python",
   "name": "python3"
  },
  "language_info": {
   "codemirror_mode": {
    "name": "ipython",
    "version": 3
   },
   "file_extension": ".py",
   "mimetype": "text/x-python",
   "name": "python",
   "nbconvert_exporter": "python",
   "pygments_lexer": "ipython3",
   "version": "3.6.5"
  }
 },
 "nbformat": 4,
 "nbformat_minor": 2
}
