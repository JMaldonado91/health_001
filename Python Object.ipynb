{
 "cells": [
  {
   "cell_type": "code",
   "execution_count": 42,
   "metadata": {},
   "outputs": [
    {
     "ename": "NameError",
     "evalue": "name 'area1' is not defined",
     "output_type": "error",
     "traceback": [
      "\u001b[1;31m---------------------------------------------------------------------------\u001b[0m",
      "\u001b[1;31mNameError\u001b[0m                                 Traceback (most recent call last)",
      "\u001b[1;32m<ipython-input-42-4868fc0d6864>\u001b[0m in \u001b[0;36m<module>\u001b[1;34m()\u001b[0m\n\u001b[0;32m     19\u001b[0m \u001b[1;33m\u001b[0m\u001b[0m\n\u001b[0;32m     20\u001b[0m \u001b[1;31m# test code\u001b[0m\u001b[1;33m\u001b[0m\u001b[1;33m\u001b[0m\u001b[0m\n\u001b[1;32m---> 21\u001b[1;33m \u001b[0mprint\u001b[0m\u001b[1;33m(\u001b[0m\u001b[0marea1\u001b[0m\u001b[1;33m.\u001b[0m\u001b[0mdescription\u001b[0m\u001b[1;33m(\u001b[0m\u001b[1;33m)\u001b[0m\u001b[1;33m)\u001b[0m\u001b[1;33m\u001b[0m\u001b[0m\n\u001b[0m",
      "\u001b[1;31mNameError\u001b[0m: name 'area1' is not defined"
     ]
    }
   ],
   "source": [
    "# define the Location class\n",
    "class Location:\n",
    "    def __init__(area, county, restaurants, population, percentage): \n",
    "        \n",
    "        area.county = county\n",
    "        area.restaurants = restaurants\n",
    "        area.population = population\n",
    "        area.percentage = percentage\n",
    "      \n",
    "    def description(self):\n",
    "        desc_str = \"In 2014 %s county had %s fast-food restaurants and physical inactivity percentage of %s with population of %s.\" % (self.county, self.restaurants, self.percentage, self.population)\n",
    "        return desc_str\n",
    "        \n",
    "        area1 = Location()\n",
    "        area1.county = \"Cleburne,AR\"\n",
    "        area1.restaurants = \"16\"\n",
    "        area1.population = \"25,603\"\n",
    "        area1.percentage = 42.1    \n",
    "\n",
    "# test code\n",
    "print(area1.description())\n",
    "\n"
   ]
  },
  {
   "cell_type": "code",
   "execution_count": 45,
   "metadata": {},
   "outputs": [
    {
     "name": "stdout",
     "output_type": "stream",
     "text": [
      "In 2014 Cleburne,AR county had 16 fast-food restaurants and physical inactivity percentage of 42.1 with population of 25,603.\n"
     ]
    }
   ],
   "source": [
    "# define the Location class\n",
    "class Location:\n",
    "    def __init__(location, county, restaurants, population, percentage):\n",
    "        location1 = Location()\n",
    "        location1.county = \"Cleburne,AR\"\n",
    "        location1.restaurants = \"16\"\n",
    "        location1.population = \"25,603\"\n",
    "        location1.percentage = 42.1\n",
    "\n",
    "\n",
    "    def description(self):\n",
    "        desc_str = \"In 2014 %s county had %s fast-food restaurants and physical inactivity percentage of %s with population of %s.\" % (self.county, self.restaurants, self.percentage, self.population)\n",
    "        return desc_str\n",
    "\n",
    "       \n",
    "\n",
    "# test code\n",
    "print(location1.description())\n",
    "\n"
   ]
  },
  {
   "cell_type": "code",
   "execution_count": 46,
   "metadata": {},
   "outputs": [
    {
     "name": "stdout",
     "output_type": "stream",
     "text": [
      "In 2014 Cleburne,AR county had 16 fast-food restaurants and physical inactivity percentage of 42.1 with population of 25,603.\n"
     ]
    }
   ],
   "source": [
    "\n",
    "class Location:\n",
    "    def __init__(location, county, restaurants, population, percentage):\n",
    "        location1 = Location()\n",
    "        location1.county = \"Cleburne,AR\"\n",
    "        location1.restaurants = \"16\"\n",
    "        location1.population = \"25,603\"\n",
    "        location1.percentage = 42.1\n",
    "\n",
    "\n",
    "    def description(self):\n",
    "        desc_str = \"In 2014 %s county had %s fast-food restaurants and physical inactivity percentage of %s with population of %s.\" % (self.county, self.restaurants, self.percentage, self.population)\n",
    "        return desc_str\n",
    "\n",
    "       \n",
    "\n",
    "\n",
    "print(location1.description())"
   ]
  },
  {
   "cell_type": "code",
   "execution_count": null,
   "metadata": {},
   "outputs": [],
   "source": []
  },
  {
   "cell_type": "code",
   "execution_count": null,
   "metadata": {},
   "outputs": [],
   "source": []
  }
 ],
 "metadata": {
  "kernelspec": {
   "display_name": "Python 3",
   "language": "python",
   "name": "python3"
  },
  "language_info": {
   "codemirror_mode": {
    "name": "ipython",
    "version": 3
   },
   "file_extension": ".py",
   "mimetype": "text/x-python",
   "name": "python",
   "nbconvert_exporter": "python",
   "pygments_lexer": "ipython3",
   "version": "3.6.5"
  }
 },
 "nbformat": 4,
 "nbformat_minor": 2
}
