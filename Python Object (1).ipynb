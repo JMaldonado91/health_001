{
 "cells": [
  {
   "cell_type": "code",
   "execution_count": 46,
   "metadata": {},
   "outputs": [
    {
     "name": "stdout",
     "output_type": "stream",
     "text": [
      "In 2014 Cleburne,AR county had 16 fast-food restaurants and physical inactivity percentage of 42.1 with population of 25,603.\n"
     ]
    }
   ],
   "source": [
    "\n",
    "class Location:\n",
    "    def __init__(location, county, restaurants, population, percentage):\n",
    "        location1 = Location()\n",
    "        location1.county = \"Cleburne,AR\"\n",
    "        location1.restaurants = \"16\"\n",
    "        location1.population = \"25,603\"\n",
    "        location1.percentage = 42.1\n",
    "\n",
    "\n",
    "    def description(self):\n",
    "        desc_str = \"In 2014 %s county had %s fast-food restaurants and physical inactivity percentage of %s with population of %s.\" % (self.county, self.restaurants, self.percentage, self.population)\n",
    "        return desc_str\n",
    "\n",
    "       \n",
    "\n",
    "\n",
    "print(location1.description())"
   ]
  },
  {
   "cell_type": "code",
   "execution_count": null,
   "metadata": {},
   "outputs": [],
   "source": []
  },
  {
   "cell_type": "code",
   "execution_count": null,
   "metadata": {},
   "outputs": [],
   "source": []
  }
 ],
 "metadata": {
  "kernelspec": {
   "display_name": "Python 3",
   "language": "python",
   "name": "python3"
  },
  "language_info": {
   "codemirror_mode": {
    "name": "ipython",
    "version": 3
   },
   "file_extension": ".py",
   "mimetype": "text/x-python",
   "name": "python",
   "nbconvert_exporter": "python",
   "pygments_lexer": "ipython3",
   "version": "3.6.5"
  }
 },
 "nbformat": 4,
 "nbformat_minor": 2
}
