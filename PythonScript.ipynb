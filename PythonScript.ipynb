{
 "cells": [
  {
   "cell_type": "code",
   "execution_count": 3,
   "metadata": {},
   "outputs": [
    {
     "name": "stdout",
     "output_type": "stream",
     "text": [
      "['county', 'Cleburne', 'Prentiss', 'Jasper', 'Holmes', 'Coal', 'Ashley', 'St Francis', 'Lawrence', 'Lafayette', 'Mississippi', 'Haskell', 'Randolph', 'Poinsett', 'Lawrence', 'Sevier', 'Claiborne', 'Cocke', 'Bell', 'Yazoo', 'Quitman']\n",
      "['population', '25603', '1014', '16529', '18509', '5709', '20958', '239', '16970', '7163', '44232', '1976', '17561', '24144', '12601', '94570', '9164', '35201', '27841', '27811', '2235']\n",
      "Which county do you wish to know the population?Bell\n",
      "The population of Bell is: 27841\n"
     ]
    }
   ],
   "source": [
    "import numpy as np\n",
    "import csv\n",
    "\n",
    "with open('MySQL_Schema1.csv') as csvfile:\n",
    "    readCSV = csv.reader(csvfile, delimiter = ',')\n",
    "\n",
    "    ids = []\n",
    "    countys = []\n",
    "    restaurants = []\n",
    "    populations = []\n",
    "    percentages = []\n",
    "    \n",
    "    for row in readCSV:\n",
    "        county = row[1]\n",
    "        restaurants = row[2]\n",
    "        population = row[3]\n",
    "        percentage = row[4]\n",
    "\n",
    "        countys.append(county)\n",
    "        populations.append(population)\n",
    "        \n",
    "    print(countys)\n",
    "    print(populations)\n",
    "\n",
    "    whichCounty = input('Which county do you wish to know the population?')\n",
    "    coldex = countys.index(whichCounty)\n",
    "\n",
    "    thePopulation = populations[coldex]\n",
    "\n",
    "    print('The population of',whichCounty,'is:',thePopulation)"
   ]
  },
  {
   "cell_type": "code",
   "execution_count": 5,
   "metadata": {},
   "outputs": [
    {
     "data": {
      "image/png": "[encoded data removed]",
      "text/plain": [
       "<Figure size 432x288 with 1 Axes>"
      ]
     },
     "metadata": {},
     "output_type": "display_data"
    }
   ],
   "source": [
    "import numpy as np\n",
    "import matplotlib.pyplot as plt\n",
    "import csv\n",
    "\n",
    "\n",
    "with open('MySQL_Schema1.csv') as csvfile:\n",
    "    plt.bars = csv.reader(csvfile, delimiter=',')\n",
    "\n",
    "    percentage = []\n",
    "    county = []\n",
    "    restaurants = []\n",
    "    \n",
    "# data\n",
    "percentage = [42, 60, 50, 50, 33, 59, 39, 27, 40, 57, 33, 48, 67, 55, 37, 67, 38, 71, 58, 60]\n",
    "\n",
    "county = [\"Cleburne, AR\", \"Prentiss, MS\", \"Jasper, MS\", \"Holmes, MS\", \"Coal, OK\", \"Ashley, AR\", \"St Francis, AR\",\n",
    "          \"Lawrence, AR\", \"Lafayette, AR\", \"Mississippi, AR\", \"Haskell, OK\", \"Randolph, AR\", \"Poinsett, AR\",\n",
    "          \"Lawrence, MS\", \"Sevier, TN\", \"Claiborne, MS\", \"Cocke, TN\", \"Bell, KY\", \"Yazoo, MS\", \"Quitman, MS\"]\n",
    "\n",
    "restaurants = [15, 15, 5, 5, 1, 13, 11, 4, 2, 32, 4, 10, 20, 6, 83, 4, 18, 27, 11, 3]\n",
    "        \n",
    "\n",
    "# plot\n",
    "plt.figure(1)\n",
    "positions = [0,2,4,6,8,10,12,14,16,18,20,22,24,26,28,30,32,34,36,38]\n",
    "positions2 = [0.8,2.8,4.8,6.8,8.8,10.8,12.8,14.8,16.8,18.8,20.8,22.8,24.8,26.8,28.8,30.8,32.8,34.8,36.8,38.8]\n",
    "positions3= [0.4,2.4,4.4,6.4,8.4,10.4,12.4,14.4,16.4,18.4,20.4,22.4,24.4,26.4,28.4,30.4,32.4,34.4,36.4,38.4]\n",
    "\n",
    "# Bars\n",
    "barWidth = 0.5\n",
    "plt.bar(positions, restaurants, color = (0.3,0.1,0.4,0.6), label='Fast Food Restaurant growth in 2014')\n",
    "plt.bar(positions2, percentage, color= (0.3,0.5,0.4,0.6), label='% of Physical Inactivity in 2014')\n",
    " \n",
    "# Rotation of the bars names\n",
    "plt.xticks(positions3, county, rotation=90, color='orange')\n",
    "plt.xlabel('County', fontweight='bold', color = (0.3,0.9,0.4,0.6), fontsize='18')\n",
    "plt.yticks(color='orange')\n",
    "\n",
    "\n",
    "plt.subplots_adjust(bottom=0.4, top=0.99)\n",
    "plt.legend()\n",
    "plt.savefig('myPlot.png')\n",
    "plt.show()"
   ]
  },
  {
   "cell_type": "code",
   "execution_count": 6,
   "metadata": {},
   "outputs": [
    {
     "name": "stdout",
     "output_type": "stream",
     "text": [
      "MySQL_Schema.csv\n",
      "1 Cleburne 16 25603 42.10\n",
      "2 Prentiss 16 1014 41.30\n",
      "3 Jasper 4 16529 40.80\n",
      "4 Holmes 4 18509 39.70\n",
      "5 Coal 1 5709 39.50\n",
      "6 Ashley 15 20958 39.20\n",
      "7 St Francis 10 239 38.90\n",
      "8 Lawrence 6 16970 38.80\n",
      "9 Lafayette 3 7163 38.80\n",
      "10 Mississippi 32 44232 38.80\n",
      "11 Haskell 4 1976 38.70\n",
      "12 Randolph 8 17561 38.60\n",
      "13 Poinsett 17 24144 38.50\n",
      "14 Lawrence 6 12601 38.40\n",
      "15 Sevier 97 94570 38.30\n",
      "16 Claiborne 5 9164 38.20\n",
      "17 Cocke 16 35201 38.10\n",
      "18 Bell 24 27841 38.00\n",
      "19 Yazoo 10 27811 38.00\n",
      "20 Quitman 4 2235 38.00\n"
     ]
    },
    {
     "ename": "ReferenceError",
     "evalue": "weakly-referenced object no longer exists",
     "output_type": "error",
     "traceback": [
      "\u001b[1;31m---------------------------------------------------------------------------\u001b[0m",
      "\u001b[1;31mReferenceError\u001b[0m                            Traceback (most recent call last)",
      "\u001b[1;32m<ipython-input-6-0632afacd8a6>\u001b[0m in \u001b[0;36m<module>\u001b[1;34m()\u001b[0m\n\u001b[0;32m     28\u001b[0m         \u001b[0mconn\u001b[0m\u001b[1;33m.\u001b[0m\u001b[0mcommit\u001b[0m\u001b[1;33m(\u001b[0m\u001b[1;33m)\u001b[0m\u001b[1;33m\u001b[0m\u001b[0m\n\u001b[0;32m     29\u001b[0m \u001b[1;33m\u001b[0m\u001b[0m\n\u001b[1;32m---> 30\u001b[1;33m \u001b[0mcursor\u001b[0m\u001b[1;33m.\u001b[0m\u001b[0mclose\u001b[0m\u001b[1;33m(\u001b[0m\u001b[1;33m)\u001b[0m\u001b[1;33m\u001b[0m\u001b[0m\n\u001b[0m\u001b[0;32m     31\u001b[0m \u001b[0mconn\u001b[0m\u001b[1;33m.\u001b[0m\u001b[0mclose\u001b[0m\u001b[1;33m(\u001b[0m\u001b[1;33m)\u001b[0m\u001b[1;33m\u001b[0m\u001b[0m\n",
      "\u001b[1;32m~\\AppData\\Local\\Continuum\\anaconda3\\lib\\site-packages\\mysql\\connector\\cursor_cext.py\u001b[0m in \u001b[0;36mclose\u001b[1;34m(self)\u001b[0m\n\u001b[0;32m    397\u001b[0m         \u001b[0mThe\u001b[0m \u001b[0mresult\u001b[0m \u001b[0mwill\u001b[0m \u001b[0mbe\u001b[0m \u001b[0mfreed\u001b[0m\u001b[1;33m.\u001b[0m\u001b[1;33m\u001b[0m\u001b[0m\n\u001b[0;32m    398\u001b[0m         \"\"\"\n\u001b[1;32m--> 399\u001b[1;33m         \u001b[1;32mif\u001b[0m \u001b[1;32mnot\u001b[0m \u001b[0mself\u001b[0m\u001b[1;33m.\u001b[0m\u001b[0m_cnx\u001b[0m\u001b[1;33m:\u001b[0m\u001b[1;33m\u001b[0m\u001b[0m\n\u001b[0m\u001b[0;32m    400\u001b[0m             \u001b[1;32mreturn\u001b[0m \u001b[1;32mFalse\u001b[0m\u001b[1;33m\u001b[0m\u001b[0m\n\u001b[0;32m    401\u001b[0m \u001b[1;33m\u001b[0m\u001b[0m\n",
      "\u001b[1;31mReferenceError\u001b[0m: weakly-referenced object no longer exists"
     ]
    }
   ],
   "source": [
    "from __future__ import print_function\n",
    "import csv\n",
    "import mysql.connector\n",
    "\n",
    "print(\"MySQL_Schema.csv\")\n",
    "conn = mysql.connector.connect(host=\"127.0.0.1\", user=\"root\", passwd=\"1315\", db=\"project_j\")\n",
    "cursor = conn.cursor()\n",
    "\n",
    "sql= \"\"\"DROP TABLE IF EXISTS `health_001`; CREATE TABLE `health_001` (\n",
    "  `id` int(11) NOT NULL AUTO_INCREMENT,\n",
    "  `county` varchar(25) NOT NULL,\n",
    "  `restaurants` decimal(10,0) NOT NULL,\n",
    "  `population` decimal(10,0) NOT NULL,\n",
    "  `percentage` decimal(19,2) NOT NULL,\n",
    "  PRIMARY KEY (`id`))\"\"\"\n",
    "cursor.execute(sql)\n",
    "\n",
    "with open('MySQL_Schema.csv') as csvfile:\n",
    "    reader = csv.DictReader(csvfile, delimiter = ',')\n",
    "    for row in reader:\n",
    "        print(row['id'], row['county'], row['restaurants'], row['population'], row['percentage'])\n",
    "       \n",
    "        conn = mysql.connector.connect(host=\"127.0.0.1\", user=\"root\", passwd=\"1315\", db=\"project_j\")\n",
    "        sql_statement = \"INSERT INTO health_001(id,county,restaurants,population,percentage) VALUES (%s,%s,%s,%s,%s)\"\n",
    "        cur = conn.cursor()\n",
    "        cur.executemany(sql_statement,[(row['id'], row['county'], row['restaurants'], row['population'], row['percentage'])])\n",
    "        \n",
    "        conn.commit()\n",
    "        \n",
    "cursor.close()       \n",
    "conn.close()"
   ]
  },
  {
   "cell_type": "code",
   "execution_count": null,
   "metadata": {},
   "outputs": [],
   "source": []
  }
 ],
 "metadata": {
  "kernelspec": {
   "display_name": "Python 3",
   "language": "python",
   "name": "python3"
  },
  "language_info": {
   "codemirror_mode": {
    "name": "ipython",
    "version": 3
   },
   "file_extension": ".py",
   "mimetype": "text/x-python",
   "name": "python",
   "nbconvert_exporter": "python",
   "pygments_lexer": "ipython3",
   "version": "3.6.5"
  }
 },
 "nbformat": 4,
 "nbformat_minor": 2
}
